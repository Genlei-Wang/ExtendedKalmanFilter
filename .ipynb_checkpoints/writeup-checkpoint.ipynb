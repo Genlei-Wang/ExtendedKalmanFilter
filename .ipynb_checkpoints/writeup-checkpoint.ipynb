{
 "cells": [
  {
   "cell_type": "markdown",
   "metadata": {
    "deletable": true,
    "editable": true
   },
   "source": [
    "### Extended Kalman Filter to Track a Pedestrian"
   ]
  },
  {
   "cell_type": "markdown",
   "metadata": {
    "collapsed": false,
    "deletable": true,
    "editable": true
   },
   "source": [
    "# Extended Kalman Filter Project Starter Code\n",
    "This project utilizes a kalman filter to estimate the state of a moving object of interest with noisy lidar and radar measurements. \n",
    "\n",
    "This repository includes two files that can be used to set up and intall [uWebSocketIO](https://github.com/uWebSockets/uWebSockets) for either Linux or Mac systems. For windows you can use either Docker, VMware, or even [Windows 10 Bash on Ubuntu](https://www.howtogeek.com/249966/how-to-install-and-use-the-linux-bash-shell-on-windows-10/) to install uWebSocketIO. \n",
    "\n",
    "Once the install for uWebSocketIO is complete, the main program can be built and ran by doing the following from the project top directory.\n",
    "\n",
    "1. mkdir build\n",
    "2. cd build\n",
    "3. cmake ..\n",
    "4. make\n",
    "5. ./ExtendedKF\n",
    "\n",
    "Here is the main protcol that main.cpp uses for uWebSocketIO in communicating with the simulator.\n",
    "\n",
    "\n",
    "INPUT: values provided by the simulator to the c++ program\n",
    "\n",
    "[\"sensor_measurement\"] => the measurment that the simulator observed (either lidar or radar)\n",
    "\n",
    "\n",
    "OUTPUT: values provided by the c++ program to the simulator\n",
    "\n",
    "[\"estimate_x\"] <= kalman filter estimated position x\n",
    "[\"estimate_y\"] <= kalman filter estimated position y\n",
    "[\"rmse_x\"]\n",
    "[\"rmse_y\"]\n",
    "[\"rmse_vx\"]\n",
    "[\"rmse_vy\"]\n",
    "\n",
    "---\n",
    "\n",
    "## Other Important Dependencies\n",
    "\n",
    "* cmake >= 3.5\n",
    " * All OSes: [click here for installation instructions](https://cmake.org/install/)\n",
    "* make >= 4.1\n",
    "  * Linux: make is installed by default on most Linux distros\n",
    "  * Mac: [install Xcode command line tools to get make](https://developer.apple.com/xcode/features/)\n",
    "  * Windows: [Click here for installation instructions](http://gnuwin32.sourceforge.net/packages/make.htm)\n",
    "* gcc/g++ >= 5.4\n",
    "  * Linux: gcc / g++ is installed by default on most Linux distros\n",
    "  * Mac: same deal as make - [install Xcode command line tools]((https://developer.apple.com/xcode/features/)\n",
    "  * Windows: recommend using [MinGW](http://www.mingw.org/)\n",
    "\n",
    "## Basic Build Instructions\n",
    "\n",
    "1. Clone this repo.\n",
    "2. Make a build directory: `mkdir build && cd build`\n",
    "3. Compile: `cmake .. && make` \n",
    "   * On windows, you may need to run: `cmake .. -G \"Unix Makefiles\" && make`\n",
    "4. Run it: `./ExtendedKF path/to/input.txt path/to/output.txt`. You can find\n",
    "   some sample inputs in 'data/'.\n",
    "    - eg. `./ExtendedKF ../data/obj_pose-laser-radar-synthetic-input.txt`\n",
    "\n"
   ]
  },
  {
   "cell_type": "markdown",
   "metadata": {
    "collapsed": false,
    "deletable": true,
    "editable": true,
    "scrolled": true
   },
   "source": [
    "## Results\n",
    "The following input files were used to check the performance of the implementation using the RMSE of px,py,vx,vy. The results were visualized with the [following utilities](https://github.com/udacity/CarND-Mercedes-SF-Utilities). The RMSE values are stated below the title of each chart.\n",
    "\n",
    "### Dataset 1 - ../data/obj_pose-laser-radar-synthetic-input.txt\n",
    " \n",
    "<img src=\"./output/sample.png\" width=\"500\">\n",
    "\n"
   ]
  },
  {
   "cell_type": "markdown",
   "metadata": {
    "collapsed": false,
    "deletable": true,
    "editable": true,
    "scrolled": false
   },
   "source": [
    "### Dataset 1 - Lidar only - ../data/obj_pose-laser-radar-synthetic-input.txt\n",
    " \n",
    "<img src=\"./output/sample_lidar_only.png\" width=\"500\">\n"
   ]
  },
  {
   "cell_type": "markdown",
   "metadata": {
    "collapsed": false,
    "deletable": true,
    "editable": true
   },
   "source": [
    "### Dataset 1 - Radar only - ../data/obj_pose-laser-radar-synthetic-input.txt\n",
    "\n",
    "<img src=\"./output/sample_radar_only.png\" width=\"500\">"
   ]
  },
  {
   "cell_type": "markdown",
   "metadata": {
    "collapsed": false,
    "deletable": true,
    "editable": true
   },
   "source": [
    "### Dataset 1 - ../data/sample-laser-radar-measurement-data-1.txt\n",
    " \n",
    "<img src=\"./output/input1.png\" width=\"500\">\n",
    "\n"
   ]
  },
  {
   "cell_type": "markdown",
   "metadata": {
    "collapsed": false,
    "deletable": true,
    "editable": true
   },
   "source": [
    "### Dataset 2 - ../data/sample-laser-radar-measurement-data-3.txt\n",
    " \n",
    "<img src=\"./output/input2.png\" width=\"500\">"
   ]
  },
  {
   "cell_type": "code",
   "execution_count": null,
   "metadata": {
    "collapsed": true
   },
   "outputs": [],
   "source": []
  }
 ],
 "metadata": {
  "anaconda-cloud": {},
  "kernelspec": {
   "display_name": "Python 3",
   "language": "python",
   "name": "python3"
  },
  "language_info": {
   "codemirror_mode": {
    "name": "ipython",
    "version": 3
   },
   "file_extension": ".py",
   "mimetype": "text/x-python",
   "name": "python",
   "nbconvert_exporter": "python",
   "pygments_lexer": "ipython3",
   "version": "3.5.2"
  },
  "widgets": {
   "state": {},
   "version": "1.1.2"
  }
 },
 "nbformat": 4,
 "nbformat_minor": 1
}
